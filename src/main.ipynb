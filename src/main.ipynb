{
 "cells": [
  {
   "cell_type": "code",
   "execution_count": 1,
   "metadata": {},
   "outputs": [],
   "source": [
    "#!/usr/bin/python\n",
    "# -*- coding: utf-8 -*-\n",
    "\n",
    "__author__ = 'So Negishi'\n",
    "__copyright__ = 'Copyright 2019, MATH323: Algorithmic Graph Theory'\n",
    "__credits__ = ['So Negishi']\n",
    "__license__ = 'MIT'\n",
    "__version__ = '0.0.1'\n",
    "__maintainer__ = 'So Negishi'\n",
    "__email__ = 'sonegishi_2020@depauw.edu'\n",
    "__status__ = 'Development'"
   ]
  },
  {
   "cell_type": "code",
   "execution_count": 159,
   "metadata": {},
   "outputs": [],
   "source": [
    "%matplotlib inline\n",
    "\n",
    "import numpy as np\n",
    "import pandas as pd\n",
    "import networkx as nx\n",
    "import matplotlib.pyplot as plt"
   ]
  },
  {
   "cell_type": "markdown",
   "metadata": {},
   "source": [
    "# Dijkstra's Algorithm"
   ]
  },
  {
   "cell_type": "code",
   "execution_count": 134,
   "metadata": {},
   "outputs": [],
   "source": [
    "def summarize(results):\n",
    "    nodes = list()\n",
    "    distances = list()\n",
    "    prevs = list()\n",
    "    for (key, val) in results.items():\n",
    "        nodes.append(key)\n",
    "        distances.append(val['distance'])\n",
    "        prevs.append(val['prev'])\n",
    "    return pd.DataFrame.from_dict({'d(i)': distances, 'prev(i)': prevs}, orient='index', columns=nodes)"
   ]
  },
  {
   "cell_type": "code",
   "execution_count": 135,
   "metadata": {},
   "outputs": [],
   "source": [
    "def dijkstra_algorithm(G, source, target):\n",
    "    nodes = dict()\n",
    "    for node in G.nodes():\n",
    "        nodes[node] = {\n",
    "            'distance': 0 if node == source else float('inf'),\n",
    "            'prev': 0 if node == source else None\n",
    "        }\n",
    "    Q = list(G.nodes())\n",
    "    while Q:\n",
    "        u = float('inf')\n",
    "        for q in Q:\n",
    "            curr = nodes[q]['distance']\n",
    "            u = q if curr < u else u\n",
    "        if u == float('inf'):\n",
    "            break\n",
    "        Q.remove(u)\n",
    "        for (v, w) in G[u].items():\n",
    "            length = w['weight']\n",
    "            if nodes[v]['distance'] > nodes[u]['distance'] + length:\n",
    "                nodes[v]['distance'] = nodes[u]['distance'] + length\n",
    "                nodes[v]['prev'] = u\n",
    "    return summarize(nodes)"
   ]
  },
  {
   "cell_type": "code",
   "execution_count": null,
   "metadata": {},
   "outputs": [],
   "source": []
  },
  {
   "cell_type": "markdown",
   "metadata": {},
   "source": [
    "# Problem Set 6.3B: Problem 1 (pg. 250)"
   ]
  },
  {
   "cell_type": "code",
   "execution_count": 136,
   "metadata": {},
   "outputs": [],
   "source": [
    "G_one = nx.DiGraph()\n",
    "G_one.add_nodes_from([i for i in range(1, 9)])\n",
    "G_one.add_weighted_edges_from([(1, 2, 1), (1, 3, 2)])\n",
    "G_one.add_weighted_edges_from([(2, 3, 1), (2, 4, 5), (2, 5, 2)])\n",
    "G_one.add_weighted_edges_from([(3, 4, 2), (3, 5, 1), (3, 6, 4)])\n",
    "G_one.add_weighted_edges_from([(4, 5, 3), (4, 6, 6), (4, 7, 8)])\n",
    "G_one.add_weighted_edges_from([(5, 6, 3), (5, 7, 7)])\n",
    "G_one.add_weighted_edges_from([(6, 7, 5), (6, 8, 2)])\n",
    "G_one.add_weighted_edges_from([(7, 8, 6)])"
   ]
  },
  {
   "cell_type": "code",
   "execution_count": 137,
   "metadata": {},
   "outputs": [
    {
     "data": {
      "image/png": "[encoded data removed]",
      "text/plain": [
       "<Figure size 432x288 with 1 Axes>"
      ]
     },
     "metadata": {},
     "output_type": "display_data"
    }
   ],
   "source": [
    "pos_one = nx.shell_layout(G_one)\n",
    "nx.draw_networkx_nodes(G_one, pos=pos_one)\n",
    "nx.draw_networkx_edges(G_one, pos=pos_one)\n",
    "nx.draw_networkx_labels(G_one, pos=pos_one)\n",
    "edge_labels = {\n",
    "    (edge[0], edge[1]): edge[2]['weight'] for edge in G_one.edges(data=True)\n",
    "}\n",
    "nx.draw_networkx_edge_labels(G_one, pos=pos_one, edge_labels=edge_labels, font_size=8, alpha=0.8)\n",
    "plt.show()"
   ]
  },
  {
   "cell_type": "markdown",
   "metadata": {},
   "source": [
    "## 1(a). (pg. 250)"
   ]
  },
  {
   "cell_type": "code",
   "execution_count": 138,
   "metadata": {},
   "outputs": [
    {
     "data": {
      "text/plain": [
       "[1, 3, 6, 8]"
      ]
     },
     "execution_count": 138,
     "metadata": {},
     "output_type": "execute_result"
    }
   ],
   "source": [
    "nx.dijkstra_path(G_one, 1, 8)"
   ]
  },
  {
   "cell_type": "code",
   "execution_count": 139,
   "metadata": {},
   "outputs": [
    {
     "data": {
      "text/html": [
       "<div>\n",
       "<style scoped>\n",
       "    .dataframe tbody tr th:only-of-type {\n",
       "        vertical-align: middle;\n",
       "    }\n",
       "\n",
       "    .dataframe tbody tr th {\n",
       "        vertical-align: top;\n",
       "    }\n",
       "\n",
       "    .dataframe thead th {\n",
       "        text-align: right;\n",
       "    }\n",
       "</style>\n",
       "<table border=\"1\" class=\"dataframe\">\n",
       "  <thead>\n",
       "    <tr style=\"text-align: right;\">\n",
       "      <th></th>\n",
       "      <th>1</th>\n",
       "      <th>2</th>\n",
       "      <th>3</th>\n",
       "      <th>4</th>\n",
       "      <th>5</th>\n",
       "      <th>6</th>\n",
       "      <th>7</th>\n",
       "      <th>8</th>\n",
       "    </tr>\n",
       "  </thead>\n",
       "  <tbody>\n",
       "    <tr>\n",
       "      <th>d(i)</th>\n",
       "      <td>0</td>\n",
       "      <td>1</td>\n",
       "      <td>2</td>\n",
       "      <td>4</td>\n",
       "      <td>3</td>\n",
       "      <td>6</td>\n",
       "      <td>10</td>\n",
       "      <td>8</td>\n",
       "    </tr>\n",
       "    <tr>\n",
       "      <th>prev(i)</th>\n",
       "      <td>0</td>\n",
       "      <td>1</td>\n",
       "      <td>1</td>\n",
       "      <td>3</td>\n",
       "      <td>2</td>\n",
       "      <td>3</td>\n",
       "      <td>5</td>\n",
       "      <td>6</td>\n",
       "    </tr>\n",
       "  </tbody>\n",
       "</table>\n",
       "</div>"
      ],
      "text/plain": [
       "         1  2  3  4  5  6   7  8\n",
       "d(i)     0  1  2  4  3  6  10  8\n",
       "prev(i)  0  1  1  3  2  3   5  6"
      ]
     },
     "execution_count": 139,
     "metadata": {},
     "output_type": "execute_result"
    }
   ],
   "source": [
    "dijkstra_algorithm(G_one, 1, 8)"
   ]
  },
  {
   "cell_type": "markdown",
   "metadata": {},
   "source": [
    "## 1(b). (pg. 250)"
   ]
  },
  {
   "cell_type": "code",
   "execution_count": 140,
   "metadata": {},
   "outputs": [
    {
     "data": {
      "text/plain": [
       "[1, 3, 6]"
      ]
     },
     "execution_count": 140,
     "metadata": {},
     "output_type": "execute_result"
    }
   ],
   "source": [
    "nx.dijkstra_path(G_one, 1, 6)"
   ]
  },
  {
   "cell_type": "code",
   "execution_count": 141,
   "metadata": {},
   "outputs": [
    {
     "data": {
      "text/html": [
       "<div>\n",
       "<style scoped>\n",
       "    .dataframe tbody tr th:only-of-type {\n",
       "        vertical-align: middle;\n",
       "    }\n",
       "\n",
       "    .dataframe tbody tr th {\n",
       "        vertical-align: top;\n",
       "    }\n",
       "\n",
       "    .dataframe thead th {\n",
       "        text-align: right;\n",
       "    }\n",
       "</style>\n",
       "<table border=\"1\" class=\"dataframe\">\n",
       "  <thead>\n",
       "    <tr style=\"text-align: right;\">\n",
       "      <th></th>\n",
       "      <th>1</th>\n",
       "      <th>2</th>\n",
       "      <th>3</th>\n",
       "      <th>4</th>\n",
       "      <th>5</th>\n",
       "      <th>6</th>\n",
       "      <th>7</th>\n",
       "      <th>8</th>\n",
       "    </tr>\n",
       "  </thead>\n",
       "  <tbody>\n",
       "    <tr>\n",
       "      <th>d(i)</th>\n",
       "      <td>0</td>\n",
       "      <td>1</td>\n",
       "      <td>2</td>\n",
       "      <td>4</td>\n",
       "      <td>3</td>\n",
       "      <td>6</td>\n",
       "      <td>10</td>\n",
       "      <td>8</td>\n",
       "    </tr>\n",
       "    <tr>\n",
       "      <th>prev(i)</th>\n",
       "      <td>0</td>\n",
       "      <td>1</td>\n",
       "      <td>1</td>\n",
       "      <td>3</td>\n",
       "      <td>2</td>\n",
       "      <td>3</td>\n",
       "      <td>5</td>\n",
       "      <td>6</td>\n",
       "    </tr>\n",
       "  </tbody>\n",
       "</table>\n",
       "</div>"
      ],
      "text/plain": [
       "         1  2  3  4  5  6   7  8\n",
       "d(i)     0  1  2  4  3  6  10  8\n",
       "prev(i)  0  1  1  3  2  3   5  6"
      ]
     },
     "execution_count": 141,
     "metadata": {},
     "output_type": "execute_result"
    }
   ],
   "source": [
    "dijkstra_algorithm(G_one, 1, 6)"
   ]
  },
  {
   "cell_type": "markdown",
   "metadata": {},
   "source": [
    "## 1(c). (pg. 251)"
   ]
  },
  {
   "cell_type": "code",
   "execution_count": 142,
   "metadata": {},
   "outputs": [
    {
     "data": {
      "text/plain": [
       "[4, 6, 8]"
      ]
     },
     "execution_count": 142,
     "metadata": {},
     "output_type": "execute_result"
    }
   ],
   "source": [
    "nx.dijkstra_path(G_one, 4, 8)"
   ]
  },
  {
   "cell_type": "code",
   "execution_count": 143,
   "metadata": {},
   "outputs": [
    {
     "data": {
      "text/html": [
       "<div>\n",
       "<style scoped>\n",
       "    .dataframe tbody tr th:only-of-type {\n",
       "        vertical-align: middle;\n",
       "    }\n",
       "\n",
       "    .dataframe tbody tr th {\n",
       "        vertical-align: top;\n",
       "    }\n",
       "\n",
       "    .dataframe thead th {\n",
       "        text-align: right;\n",
       "    }\n",
       "</style>\n",
       "<table border=\"1\" class=\"dataframe\">\n",
       "  <thead>\n",
       "    <tr style=\"text-align: right;\">\n",
       "      <th></th>\n",
       "      <th>1</th>\n",
       "      <th>2</th>\n",
       "      <th>3</th>\n",
       "      <th>4</th>\n",
       "      <th>5</th>\n",
       "      <th>6</th>\n",
       "      <th>7</th>\n",
       "      <th>8</th>\n",
       "    </tr>\n",
       "  </thead>\n",
       "  <tbody>\n",
       "    <tr>\n",
       "      <th>d(i)</th>\n",
       "      <td>inf</td>\n",
       "      <td>inf</td>\n",
       "      <td>inf</td>\n",
       "      <td>0</td>\n",
       "      <td>3</td>\n",
       "      <td>6</td>\n",
       "      <td>8</td>\n",
       "      <td>8</td>\n",
       "    </tr>\n",
       "    <tr>\n",
       "      <th>prev(i)</th>\n",
       "      <td>NaN</td>\n",
       "      <td>NaN</td>\n",
       "      <td>NaN</td>\n",
       "      <td>0</td>\n",
       "      <td>4</td>\n",
       "      <td>4</td>\n",
       "      <td>4</td>\n",
       "      <td>6</td>\n",
       "    </tr>\n",
       "  </tbody>\n",
       "</table>\n",
       "</div>"
      ],
      "text/plain": [
       "           1    2    3  4  5  6  7  8\n",
       "d(i)     inf  inf  inf  0  3  6  8  8\n",
       "prev(i)  NaN  NaN  NaN  0  4  4  4  6"
      ]
     },
     "execution_count": 143,
     "metadata": {},
     "output_type": "execute_result"
    }
   ],
   "source": [
    "dijkstra_algorithm(G_one, 4, 8)"
   ]
  },
  {
   "cell_type": "markdown",
   "metadata": {},
   "source": [
    "## 1(d). (pg. 251)"
   ]
  },
  {
   "cell_type": "code",
   "execution_count": 144,
   "metadata": {},
   "outputs": [
    {
     "data": {
      "text/plain": [
       "[2, 3, 6]"
      ]
     },
     "execution_count": 144,
     "metadata": {},
     "output_type": "execute_result"
    }
   ],
   "source": [
    "nx.dijkstra_path(G_one, 2, 6)"
   ]
  },
  {
   "cell_type": "code",
   "execution_count": 145,
   "metadata": {},
   "outputs": [
    {
     "data": {
      "text/html": [
       "<div>\n",
       "<style scoped>\n",
       "    .dataframe tbody tr th:only-of-type {\n",
       "        vertical-align: middle;\n",
       "    }\n",
       "\n",
       "    .dataframe tbody tr th {\n",
       "        vertical-align: top;\n",
       "    }\n",
       "\n",
       "    .dataframe thead th {\n",
       "        text-align: right;\n",
       "    }\n",
       "</style>\n",
       "<table border=\"1\" class=\"dataframe\">\n",
       "  <thead>\n",
       "    <tr style=\"text-align: right;\">\n",
       "      <th></th>\n",
       "      <th>1</th>\n",
       "      <th>2</th>\n",
       "      <th>3</th>\n",
       "      <th>4</th>\n",
       "      <th>5</th>\n",
       "      <th>6</th>\n",
       "      <th>7</th>\n",
       "      <th>8</th>\n",
       "    </tr>\n",
       "  </thead>\n",
       "  <tbody>\n",
       "    <tr>\n",
       "      <th>d(i)</th>\n",
       "      <td>inf</td>\n",
       "      <td>0</td>\n",
       "      <td>1</td>\n",
       "      <td>3</td>\n",
       "      <td>2</td>\n",
       "      <td>5</td>\n",
       "      <td>9</td>\n",
       "      <td>7</td>\n",
       "    </tr>\n",
       "    <tr>\n",
       "      <th>prev(i)</th>\n",
       "      <td>NaN</td>\n",
       "      <td>0</td>\n",
       "      <td>2</td>\n",
       "      <td>3</td>\n",
       "      <td>2</td>\n",
       "      <td>5</td>\n",
       "      <td>5</td>\n",
       "      <td>6</td>\n",
       "    </tr>\n",
       "  </tbody>\n",
       "</table>\n",
       "</div>"
      ],
      "text/plain": [
       "           1  2  3  4  5  6  7  8\n",
       "d(i)     inf  0  1  3  2  5  9  7\n",
       "prev(i)  NaN  0  2  3  2  5  5  6"
      ]
     },
     "execution_count": 145,
     "metadata": {},
     "output_type": "execute_result"
    }
   ],
   "source": [
    "dijkstra_algorithm(G_one, 2, 6)"
   ]
  },
  {
   "cell_type": "code",
   "execution_count": null,
   "metadata": {},
   "outputs": [],
   "source": []
  },
  {
   "cell_type": "markdown",
   "metadata": {},
   "source": [
    "# Problem Set 6.3B: Problem 2 (pg. 251)"
   ]
  },
  {
   "cell_type": "code",
   "execution_count": 146,
   "metadata": {},
   "outputs": [],
   "source": [
    "G_two = nx.DiGraph()\n",
    "G_two.add_nodes_from([i for i in range(1, 8)])\n",
    "G_two.add_weighted_edges_from([(1, 2, 5), (1, 3, 1)])\n",
    "G_two.add_weighted_edges_from([(2, 4, 7), (2, 5, 1), (2, 6, 6)])\n",
    "G_two.add_weighted_edges_from([(3, 2, 2), (3, 4, 6), (3, 5, 7)])\n",
    "G_two.add_weighted_edges_from([(4, 3, 7), (4, 6, 4), (4, 7, 6)])\n",
    "G_two.add_weighted_edges_from([(5, 4, 3), (5, 6, 5), (5, 7, 9)])\n",
    "G_two.add_weighted_edges_from([(6, 7, 2)])"
   ]
  },
  {
   "cell_type": "code",
   "execution_count": 147,
   "metadata": {},
   "outputs": [
    {
     "data": {
      "image/png": "[encoded data removed]",
      "text/plain": [
       "<Figure size 432x288 with 1 Axes>"
      ]
     },
     "metadata": {},
     "output_type": "display_data"
    }
   ],
   "source": [
    "pos_two = nx.shell_layout(G_two)\n",
    "nx.draw_networkx_nodes(G_two, pos=pos_two)\n",
    "nx.draw_networkx_edges(G_two, pos=pos_two)\n",
    "nx.draw_networkx_labels(G_two, pos=pos_two)\n",
    "edge_labels = {\n",
    "    (edge[0], edge[1]): edge[2]['weight'] for edge in G_two.edges(data=True)\n",
    "}\n",
    "nx.draw_networkx_edge_labels(G_two, pos=pos_two, edge_labels=edge_labels, font_size=8, alpha=0.8)\n",
    "plt.show()"
   ]
  },
  {
   "cell_type": "code",
   "execution_count": 148,
   "metadata": {},
   "outputs": [
    {
     "name": "stdout",
     "output_type": "stream",
     "text": [
      "SPF (1 -> 2): [1, 3, 2]\n",
      "SPF (1 -> 3): [1, 3]\n",
      "SPF (1 -> 4): [1, 3, 4]\n",
      "SPF (1 -> 5): [1, 3, 2, 5]\n",
      "SPF (1 -> 6): [1, 3, 2, 6]\n",
      "SPF (1 -> 7): [1, 3, 2, 6, 7]\n"
     ]
    }
   ],
   "source": [
    "for head in range(2, 8):\n",
    "    print(f'SPF (1 -> {head}):', nx.dijkstra_path(G_two, 1, head))"
   ]
  },
  {
   "cell_type": "code",
   "execution_count": 152,
   "metadata": {},
   "outputs": [
    {
     "name": "stdout",
     "output_type": "stream",
     "text": [
      "SPF (1 -> 2):\n",
      "         1  2  3  4  5  6   7\n",
      "d(i)     0  3  1  7  4  9  11\n",
      "prev(i)  0  3  1  3  2  2   6\n",
      "\n",
      "\n",
      "SPF (1 -> 3):\n",
      "         1  2  3  4  5  6   7\n",
      "d(i)     0  3  1  7  4  9  11\n",
      "prev(i)  0  3  1  3  2  2   6\n",
      "\n",
      "\n",
      "SPF (1 -> 4):\n",
      "         1  2  3  4  5  6   7\n",
      "d(i)     0  3  1  7  4  9  11\n",
      "prev(i)  0  3  1  3  2  2   6\n",
      "\n",
      "\n",
      "SPF (1 -> 5):\n",
      "         1  2  3  4  5  6   7\n",
      "d(i)     0  3  1  7  4  9  11\n",
      "prev(i)  0  3  1  3  2  2   6\n",
      "\n",
      "\n",
      "SPF (1 -> 6):\n",
      "         1  2  3  4  5  6   7\n",
      "d(i)     0  3  1  7  4  9  11\n",
      "prev(i)  0  3  1  3  2  2   6\n",
      "\n",
      "\n",
      "SPF (1 -> 7):\n",
      "         1  2  3  4  5  6   7\n",
      "d(i)     0  3  1  7  4  9  11\n",
      "prev(i)  0  3  1  3  2  2   6\n",
      "\n",
      "\n"
     ]
    }
   ],
   "source": [
    "for head in range(2, 8):\n",
    "    print(f'SPF (1 -> {head}):\\n{dijkstra_algorithm(G_two, 1, head)}\\n\\n', )"
   ]
  },
  {
   "cell_type": "code",
   "execution_count": null,
   "metadata": {},
   "outputs": [],
   "source": []
  },
  {
   "cell_type": "markdown",
   "metadata": {},
   "source": [
    "# All Pairs Lable Correcting Algorithm"
   ]
  },
  {
   "cell_type": "code",
   "execution_count": 210,
   "metadata": {},
   "outputs": [],
   "source": [
    "def all_pair_label_correcting(G):    \n",
    "    len_nodes = len(G.nodes())\n",
    "    mtx = np.full((len_nodes, len_nodes), float('inf'))\n",
    "    np.fill_diagonal(mtx, 0)\n",
    "    \n",
    "    directed_G = G.to_directed()\n",
    "    for u in directed_G.nodes():\n",
    "        for (v, w) in directed_G[u].items():\n",
    "            mtx[u-1][v-1] = w['weight']\n",
    "    \n",
    "    u, v, k = 0, 0, 0\n",
    "    while mtx[u][v] > mtx[u][k] + mtx[k][v] > 0:\n",
    "        mtx[u][v] = mtx[u][v] + mtx[k][v]\n",
    "    \n",
    "    nodes_range = range(1, len_nodes + 1)\n",
    "    return pd.DataFrame(mtx,  index=nodes_range, columns=nodes_range)"
   ]
  },
  {
   "cell_type": "code",
   "execution_count": 211,
   "metadata": {},
   "outputs": [
    {
     "data": {
      "text/html": [
       "<div>\n",
       "<style scoped>\n",
       "    .dataframe tbody tr th:only-of-type {\n",
       "        vertical-align: middle;\n",
       "    }\n",
       "\n",
       "    .dataframe tbody tr th {\n",
       "        vertical-align: top;\n",
       "    }\n",
       "\n",
       "    .dataframe thead th {\n",
       "        text-align: right;\n",
       "    }\n",
       "</style>\n",
       "<table border=\"1\" class=\"dataframe\">\n",
       "  <thead>\n",
       "    <tr style=\"text-align: right;\">\n",
       "      <th></th>\n",
       "      <th>1</th>\n",
       "      <th>2</th>\n",
       "      <th>3</th>\n",
       "      <th>4</th>\n",
       "      <th>5</th>\n",
       "      <th>6</th>\n",
       "    </tr>\n",
       "  </thead>\n",
       "  <tbody>\n",
       "    <tr>\n",
       "      <th>1</th>\n",
       "      <td>0.0</td>\n",
       "      <td>700.0</td>\n",
       "      <td>200.0</td>\n",
       "      <td>inf</td>\n",
       "      <td>inf</td>\n",
       "      <td>inf</td>\n",
       "    </tr>\n",
       "    <tr>\n",
       "      <th>2</th>\n",
       "      <td>700.0</td>\n",
       "      <td>0.0</td>\n",
       "      <td>300.0</td>\n",
       "      <td>200.0</td>\n",
       "      <td>inf</td>\n",
       "      <td>400.0</td>\n",
       "    </tr>\n",
       "    <tr>\n",
       "      <th>3</th>\n",
       "      <td>200.0</td>\n",
       "      <td>300.0</td>\n",
       "      <td>0.0</td>\n",
       "      <td>700.0</td>\n",
       "      <td>600.0</td>\n",
       "      <td>inf</td>\n",
       "    </tr>\n",
       "    <tr>\n",
       "      <th>4</th>\n",
       "      <td>inf</td>\n",
       "      <td>200.0</td>\n",
       "      <td>700.0</td>\n",
       "      <td>0.0</td>\n",
       "      <td>300.0</td>\n",
       "      <td>100.0</td>\n",
       "    </tr>\n",
       "    <tr>\n",
       "      <th>5</th>\n",
       "      <td>inf</td>\n",
       "      <td>inf</td>\n",
       "      <td>600.0</td>\n",
       "      <td>300.0</td>\n",
       "      <td>0.0</td>\n",
       "      <td>500.0</td>\n",
       "    </tr>\n",
       "    <tr>\n",
       "      <th>6</th>\n",
       "      <td>inf</td>\n",
       "      <td>400.0</td>\n",
       "      <td>inf</td>\n",
       "      <td>100.0</td>\n",
       "      <td>500.0</td>\n",
       "      <td>0.0</td>\n",
       "    </tr>\n",
       "  </tbody>\n",
       "</table>\n",
       "</div>"
      ],
      "text/plain": [
       "       1      2      3      4      5      6\n",
       "1    0.0  700.0  200.0    inf    inf    inf\n",
       "2  700.0    0.0  300.0  200.0    inf  400.0\n",
       "3  200.0  300.0    0.0  700.0  600.0    inf\n",
       "4    inf  200.0  700.0    0.0  300.0  100.0\n",
       "5    inf    inf  600.0  300.0    0.0  500.0\n",
       "6    inf  400.0    inf  100.0  500.0    0.0"
      ]
     },
     "execution_count": 211,
     "metadata": {},
     "output_type": "execute_result"
    }
   ],
   "source": [
    "all_pair_label_correcting(G_three)"
   ]
  },
  {
   "cell_type": "code",
   "execution_count": null,
   "metadata": {},
   "outputs": [],
   "source": []
  },
  {
   "cell_type": "markdown",
   "metadata": {},
   "source": [
    "# Problem Set 6.3C: Problem 3 (pg. 256)"
   ]
  },
  {
   "cell_type": "markdown",
   "metadata": {},
   "source": [
    "The Tell-All mobile-phone company services six geographical areas. The satellite distances (in miles) among the six areas are given in Figure 6.23. Tell-All needs to determine the most efficient message routes that should be established between each two areas in the network."
   ]
  },
  {
   "cell_type": "code",
   "execution_count": 18,
   "metadata": {},
   "outputs": [],
   "source": [
    "G_three = nx.Graph()\n",
    "G_three.add_nodes_from([i for i in range(1, 7)])\n",
    "G_three.add_weighted_edges_from([(1, 2, 700), (1, 3, 200)])\n",
    "G_three.add_weighted_edges_from([(2, 3, 300), (2, 4, 200), (2, 6, 400)])\n",
    "G_three.add_weighted_edges_from([(3, 4, 700), (3, 5, 600)])\n",
    "G_three.add_weighted_edges_from([(4, 5, 300), (4, 6, 100)])\n",
    "G_three.add_weighted_edges_from([(5, 6, 500)])"
   ]
  },
  {
   "cell_type": "code",
   "execution_count": 19,
   "metadata": {},
   "outputs": [
    {
     "data": {
      "image/png": "[encoded data removed]",
      "text/plain": [
       "<Figure size 432x288 with 1 Axes>"
      ]
     },
     "metadata": {},
     "output_type": "display_data"
    }
   ],
   "source": [
    "pos_three = nx.shell_layout(G_three)\n",
    "nx.draw_networkx_nodes(G_three, pos=pos_three)\n",
    "nx.draw_networkx_edges(G_three, pos=pos_three)\n",
    "nx.draw_networkx_labels(G_three, pos=pos_three)\n",
    "edge_labels = {\n",
    "    (edge[0], edge[1]): edge[2]['weight'] for edge in G_three.edges(data=True)\n",
    "}\n",
    "nx.draw_networkx_edge_labels(G_three, pos=pos_three, edge_labels=edge_labels, font_size=8, alpha=0.8)\n",
    "plt.show()"
   ]
  },
  {
   "cell_type": "code",
   "execution_count": null,
   "metadata": {},
   "outputs": [],
   "source": [
    "all_pair_label_correcting(G_three)"
   ]
  },
  {
   "cell_type": "code",
   "execution_count": null,
   "metadata": {},
   "outputs": [],
   "source": []
  }
 ],
 "metadata": {
  "jupytext": {
   "formats": "ipynb,py:light"
  },
  "kernelspec": {
   "display_name": "Python 3",
   "language": "python",
   "name": "python3"
  },
  "language_info": {
   "codemirror_mode": {
    "name": "ipython",
    "version": 3
   },
   "file_extension": ".py",
   "mimetype": "text/x-python",
   "name": "python",
   "nbconvert_exporter": "python",
   "pygments_lexer": "ipython3",
   "version": "3.6.9"
  }
 },
 "nbformat": 4,
 "nbformat_minor": 4
}
